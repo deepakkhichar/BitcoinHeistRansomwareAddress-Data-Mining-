{
 "cells": [
  {
   "cell_type": "code",
   "execution_count": 1,
   "id": "33ab1157",
   "metadata": {},
   "outputs": [],
   "source": [
    "import numpy as np\n",
    "import pandas as pd\n",
    "import matplotlib.pyplot as plt\n",
    "from sklearn import preprocessing\n",
    "from sklearn.metrics import accuracy_score\n",
    "from sklearn import tree\n",
    "from sklearn.metrics import accuracy_score, confusion_matrix,classification_report,plot_confusion_matrix"
   ]
  },
  {
   "cell_type": "markdown",
   "id": "e9e20838",
   "metadata": {},
   "source": [
    "# Loading Dataset "
   ]
  },
  {
   "cell_type": "code",
   "execution_count": 2,
   "id": "246abfce",
   "metadata": {},
   "outputs": [],
   "source": [
    "input_data=pd.read_csv(\"data/BitcoinHeistData.csv\")"
   ]
  },
  {
   "cell_type": "code",
   "execution_count": 3,
   "id": "126357d7",
   "metadata": {},
   "outputs": [
    {
     "name": "stdout",
     "output_type": "stream",
     "text": [
      "                              address  year  day  length    weight  count  \\\n",
      "0   111K8kZAEnJg245r2cM6y9zgJGHZtJPy6  2017   11      18  0.008333      1   \n",
      "1  1123pJv8jzeFQaCV4w644pzQJzVWay2zcA  2016  132      44  0.000244      1   \n",
      "2  112536im7hy6wtKbpH1qYDWtTyMRAcA2p7  2016  246       0  1.000000      1   \n",
      "3  1126eDRw2wqSkWosjTCre8cjjQW8sSeWH7  2016  322      72  0.003906      1   \n",
      "4  1129TSjKtx65E35GiUo4AYVeyo48twbrGX  2016  238     144  0.072848    456   \n",
      "\n",
      "   looped  neighbors       income            label  \n",
      "0       0          2  100050000.0  princetonCerber  \n",
      "1       0          1  100000000.0   princetonLocky  \n",
      "2       0          2  200000000.0  princetonCerber  \n",
      "3       0          2   71200000.0  princetonCerber  \n",
      "4       0          1  200000000.0   princetonLocky  \n"
     ]
    }
   ],
   "source": [
    "print(input_data.head())"
   ]
  },
  {
   "cell_type": "markdown",
   "id": "71a8c042",
   "metadata": {},
   "source": [
    "# Preprocessing"
   ]
  },
  {
   "cell_type": "markdown",
   "id": "c1dbcb76",
   "metadata": {},
   "source": [
    "#### Checking for Duplicates"
   ]
  },
  {
   "cell_type": "code",
   "execution_count": 4,
   "id": "a18f5146",
   "metadata": {},
   "outputs": [
    {
     "name": "stdout",
     "output_type": "stream",
     "text": [
      "No of duplicates in the Input Data: 0\n"
     ]
    }
   ],
   "source": [
    "print('No of duplicates in the Input Data:',sum(input_data.duplicated()))"
   ]
  },
  {
   "cell_type": "markdown",
   "id": "b40b39ca",
   "metadata": {},
   "source": [
    "#### Checking for NaN/null values"
   ]
  },
  {
   "cell_type": "code",
   "execution_count": 5,
   "id": "fd7a4ab1",
   "metadata": {},
   "outputs": [
    {
     "name": "stdout",
     "output_type": "stream",
     "text": [
      "No of NaN/Null values in Input Data: 0\n"
     ]
    }
   ],
   "source": [
    "print('No of NaN/Null values in Input Data:',input_data.isnull().values.sum())"
   ]
  },
  {
   "cell_type": "markdown",
   "id": "3290fc54",
   "metadata": {},
   "source": [
    "#### Data Prepration"
   ]
  },
  {
   "cell_type": "code",
   "execution_count": 6,
   "id": "f50d2123",
   "metadata": {},
   "outputs": [
    {
     "name": "stdout",
     "output_type": "stream",
     "text": [
      "                              address  year  day  length    weight  count  \\\n",
      "0   111K8kZAEnJg245r2cM6y9zgJGHZtJPy6  2017   11      18  0.008333      1   \n",
      "1  1123pJv8jzeFQaCV4w644pzQJzVWay2zcA  2016  132      44  0.000244      1   \n",
      "2  112536im7hy6wtKbpH1qYDWtTyMRAcA2p7  2016  246       0  1.000000      1   \n",
      "3  1126eDRw2wqSkWosjTCre8cjjQW8sSeWH7  2016  322      72  0.003906      1   \n",
      "4  1129TSjKtx65E35GiUo4AYVeyo48twbrGX  2016  238     144  0.072848    456   \n",
      "\n",
      "   looped  neighbors       income  \n",
      "0       0          2  100050000.0  \n",
      "1       0          1  100000000.0  \n",
      "2       0          2  200000000.0  \n",
      "3       0          2   71200000.0  \n",
      "4       0          1  200000000.0  \n"
     ]
    }
   ],
   "source": [
    "X = input_data.drop(['label'], axis = 1)\n",
    "Y = input_data['label']\n",
    "\n",
    "print(X.head())"
   ]
  },
  {
   "cell_type": "markdown",
   "id": "c557dc45",
   "metadata": {},
   "source": [
    "##### Feature Subset Selection"
   ]
  },
  {
   "cell_type": "code",
   "execution_count": 7,
   "id": "2495a7f1",
   "metadata": {},
   "outputs": [
    {
     "name": "stdout",
     "output_type": "stream",
     "text": [
      "   year  day  length    weight  count  looped  neighbors       income\n",
      "0  2017   11      18  0.008333      1       0          2  100050000.0\n",
      "1  2016  132      44  0.000244      1       0          1  100000000.0\n",
      "2  2016  246       0  1.000000      1       0          2  200000000.0\n",
      "3  2016  322      72  0.003906      1       0          2   71200000.0\n",
      "4  2016  238     144  0.072848    456       0          1  200000000.0\n"
     ]
    }
   ],
   "source": [
    "# Since the address attribute is irrelevant to the type of Ransomware and including it in X will cause overfitting of the model. Therefore, we can drop this feature\n",
    "X = input_data.drop(['address','label'], axis = 1)\n",
    "\n",
    "print(X.head())"
   ]
  },
  {
   "cell_type": "markdown",
   "id": "a5a1f92a",
   "metadata": {},
   "source": [
    "#### Label Encoding"
   ]
  },
  {
   "cell_type": "code",
   "execution_count": 8,
   "id": "7b303fbd",
   "metadata": {},
   "outputs": [
    {
     "name": "stdout",
     "output_type": "stream",
     "text": [
      "['montrealAPT' 'montrealComradeCircle' 'montrealCryptConsole'\n",
      " 'montrealCryptXXX' 'montrealCryptoLocker' 'montrealCryptoTorLocker2015'\n",
      " 'montrealDMALocker' 'montrealDMALockerv3' 'montrealEDA2' 'montrealFlyper'\n",
      " 'montrealGlobe' 'montrealGlobeImposter' 'montrealGlobev3'\n",
      " 'montrealJigSaw' 'montrealNoobCrypt' 'montrealRazy' 'montrealSam'\n",
      " 'montrealSamSam' 'montrealVenusLocker' 'montrealWannaCry'\n",
      " 'montrealXLocker' 'montrealXLockerv5.0' 'montrealXTPLocker'\n",
      " 'paduaCryptoWall' 'paduaJigsaw' 'paduaKeRanger' 'princetonCerber'\n",
      " 'princetonLocky' 'white']\n"
     ]
    }
   ],
   "source": [
    "# Transforming non-numerical value in Y to numerical value using label Encoder\n",
    "le = preprocessing.LabelEncoder()\n",
    "le.fit(Y)\n",
    "Y = le.transform(Y)\n",
    "print(le.classes_)"
   ]
  },
  {
   "cell_type": "markdown",
   "id": "08577d14",
   "metadata": {},
   "source": [
    "#### Normalising the data"
   ]
  },
  {
   "cell_type": "code",
   "execution_count": 9,
   "id": "77d17252",
   "metadata": {},
   "outputs": [],
   "source": [
    "X_n = preprocessing.normalize(X)\n"
   ]
  },
  {
   "cell_type": "markdown",
   "id": "3a7dc08e",
   "metadata": {},
   "source": [
    "#### Feature Scaling"
   ]
  },
  {
   "cell_type": "code",
   "execution_count": 10,
   "id": "c312264c",
   "metadata": {},
   "outputs": [],
   "source": [
    "# MinMaxScalar\n",
    "from sklearn.preprocessing import MinMaxScaler\n",
    "scaler1 = MinMaxScaler().fit(X_n)\n",
    "X_mm = scaler1.transform(X_n)\n",
    "                         \n",
    "# Standard Scaler\n",
    "# from sklearn.preprocessing import StandardScaler\n",
    "# scaler2 = StandardScaler().fit(X_n)\n",
    "# X_st = scaler2.transform(X_n)"
   ]
  },
  {
   "cell_type": "markdown",
   "id": "1b652571",
   "metadata": {},
   "source": [
    "# Training the model"
   ]
  },
  {
   "cell_type": "markdown",
   "id": "9d4cc7af",
   "metadata": {},
   "source": [
    "### Using Random train and test subsets\n"
   ]
  },
  {
   "cell_type": "code",
   "execution_count": 11,
   "id": "434fd8cb",
   "metadata": {},
   "outputs": [],
   "source": [
    "from sklearn.model_selection import train_test_split\n",
    "X_train, X_test, Y_train, Y_test=train_test_split(X_mm,Y,test_size=0.2,random_state=42)"
   ]
  },
  {
   "cell_type": "code",
   "execution_count": 12,
   "id": "8eef2651",
   "metadata": {},
   "outputs": [],
   "source": [
    "from sklearn.naive_bayes import MultinomialNB\n",
    "clf1 = MultinomialNB()\n",
    "clf1 = clf1.fit(X_train, Y_train)"
   ]
  },
  {
   "cell_type": "code",
   "execution_count": 13,
   "id": "0fc6ecf7",
   "metadata": {},
   "outputs": [
    {
     "name": "stdout",
     "output_type": "stream",
     "text": [
      "----------------------------------------------------------------------------------------------------\n",
      "\n",
      "Accuracy Score on Training Data: 0.9857244305093477\n",
      "\n",
      "\n",
      "------------------------------------------------------------------------------------------------\n",
      "\n",
      "Accuracy Score on Test Data: 0.9861093016079816\n",
      "\n",
      "------------------------------------------------------------------------------------------------\n"
     ]
    }
   ],
   "source": [
    "Y_train_pred = clf1.predict(X_train)\n",
    "Y_test_pred = clf1.predict(X_test)\n",
    "print('----------------------------------------------------------------------------------------------------\\n')\n",
    "print('Accuracy Score on Training Data:',accuracy_score(Y_train, Y_train_pred))\n",
    "print('\\n\\n------------------------------------------------------------------------------------------------\\n')\n",
    "print('Accuracy Score on Test Data:',accuracy_score(Y_test, Y_test_pred))\n",
    "print('\\n------------------------------------------------------------------------------------------------')"
   ]
  },
  {
   "cell_type": "markdown",
   "id": "00a2e2eb",
   "metadata": {},
   "source": [
    "### Using K-fold cross validation"
   ]
  },
  {
   "cell_type": "code",
   "execution_count": 14,
   "id": "885bf6ef",
   "metadata": {},
   "outputs": [],
   "source": [
    "k=5\n",
    "n=len(X_mm)//k\n",
    "train_accuracy_scores=[]\n",
    "test_accuracy_scores=[]\n",
    "for i in range(k):\n",
    "    \n",
    "    #Train-test split \n",
    "    X_train=[]\n",
    "    Y_train=[]\n",
    "    X_test=[]\n",
    "    Y_test=[]\n",
    "    for j in range(len(X_mm)):\n",
    "        if j>=n*i and j<n*(i+1):\n",
    "            X_test.append(X_mm[j])\n",
    "            Y_test.append(Y[j])\n",
    "        else:\n",
    "            X_train.append(X_mm[j])\n",
    "            Y_train.append(Y[j])\n",
    "    \n",
    "    # model training\n",
    "    clf2 = MultinomialNB()\n",
    "    clf2 = clf2.fit(X_train, Y_train)\n",
    "    \n",
    "    #Accuracy calculation\n",
    "    Y_train_pred = clf2.predict(X_train)\n",
    "    Y_test_pred = clf2.predict(X_test)\n",
    "    train_accuracy_scores.append(accuracy_score(Y_train, Y_train_pred))\n",
    "    test_accuracy_scores.append(accuracy_score(Y_test, Y_test_pred))"
   ]
  },
  {
   "cell_type": "code",
   "execution_count": 15,
   "id": "7efaf89f",
   "metadata": {},
   "outputs": [
    {
     "name": "stdout",
     "output_type": "stream",
     "text": [
      "----------------------------------------------------------------------------------------------------\n",
      "\n",
      "Accuracy Score on Training Data: 0.9858014072422663\n",
      "\n",
      "\n",
      "------------------------------------------------------------------------------------------------\n",
      "\n",
      "Accuracy Score on Test Data: 0.9858013950721622\n",
      "\n",
      "------------------------------------------------------------------------------------------------\n"
     ]
    }
   ],
   "source": [
    "print('----------------------------------------------------------------------------------------------------\\n')\n",
    "print('Accuracy Score on Training Data:',np.mean(train_accuracy_scores))\n",
    "print('\\n\\n------------------------------------------------------------------------------------------------\\n')\n",
    "print('Accuracy Score on Test Data:',np.mean(test_accuracy_scores))\n",
    "print('\\n------------------------------------------------------------------------------------------------')"
   ]
  }
 ],
 "metadata": {
  "kernelspec": {
   "display_name": "Python 3",
   "language": "python",
   "name": "python3"
  },
  "language_info": {
   "codemirror_mode": {
    "name": "ipython",
    "version": 3
   },
   "file_extension": ".py",
   "mimetype": "text/x-python",
   "name": "python",
   "nbconvert_exporter": "python",
   "pygments_lexer": "ipython3",
   "version": "3.8.8"
  }
 },
 "nbformat": 4,
 "nbformat_minor": 5
}
